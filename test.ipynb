{
 "cells": [
  {
   "cell_type": "code",
   "execution_count": 1,
   "metadata": {},
   "outputs": [],
   "source": [
    "from SuffixArray import SuffixArray"
   ]
  },
  {
   "cell_type": "code",
   "execution_count": 2,
   "metadata": {},
   "outputs": [],
   "source": [
    "sa = SuffixArray(text=\"武汉市长江大桥是武汉的一座大桥，但武汉市长并不是江大桥。\")"
   ]
  },
  {
   "cell_type": "code",
   "execution_count": 3,
   "metadata": {},
   "outputs": [
    {
     "name": "stdout",
     "output_type": "stream",
     "text": [
      "[{'token': '市', 'prob': 0.6666666666666666}, {'token': '的', 'prob': 0.3333333333333333}]\n",
      "0.6365141682948128\n",
      "[{'token': '[UNK]', 'prob': 0.0}]\n",
      "0.0\n"
     ]
    }
   ],
   "source": [
    "print(sa.get_prob(\"武汉\"))\n",
    "print(sa.get_branch_entropy(\"武汉\"))\n",
    "print(sa.get_prob(\"。\"))\n",
    "print(sa.get_branch_entropy(\"。\"))"
   ]
  },
  {
   "cell_type": "code",
   "execution_count": 4,
   "metadata": {},
   "outputs": [
    {
     "data": {
      "text/plain": [
       "2.2335922215070934"
      ]
     },
     "execution_count": 4,
     "metadata": {},
     "output_type": "execute_result"
    }
   ],
   "source": [
    "sa.get_mutual_information(\"武汉市长\")"
   ]
  },
  {
   "cell_type": "code",
   "execution_count": 5,
   "metadata": {},
   "outputs": [
    {
     "data": {
      "text/plain": [
       "2"
      ]
     },
     "execution_count": 5,
     "metadata": {},
     "output_type": "execute_result"
    }
   ],
   "source": [
    "sa.get_count(\"武汉市长\")"
   ]
  },
  {
   "cell_type": "code",
   "execution_count": 6,
   "metadata": {},
   "outputs": [
    {
     "name": "stdout",
     "output_type": "stream",
     "text": [
      "。\n",
      "一座大桥，但武汉市长并不是江大桥。\n",
      "不是江大桥。\n",
      "但武汉市长并不是江大桥。\n",
      "大桥。\n",
      "大桥是武汉的一座大桥，但武汉市长并不是江大桥。\n",
      "大桥，但武汉市长并不是江大桥。\n",
      "市长并不是江大桥。\n",
      "市长江大桥是武汉的一座大桥，但武汉市长并不是江大桥。\n",
      "并不是江大桥。\n",
      "座大桥，但武汉市长并不是江大桥。\n",
      "是武汉的一座大桥，但武汉市长并不是江大桥。\n",
      "是江大桥。\n",
      "桥。\n",
      "桥是武汉的一座大桥，但武汉市长并不是江大桥。\n",
      "桥，但武汉市长并不是江大桥。\n",
      "武汉市长并不是江大桥。\n",
      "武汉市长江大桥是武汉的一座大桥，但武汉市长并不是江大桥。\n",
      "武汉的一座大桥，但武汉市长并不是江大桥。\n",
      "汉市长并不是江大桥。\n",
      "汉市长江大桥是武汉的一座大桥，但武汉市长并不是江大桥。\n",
      "汉的一座大桥，但武汉市长并不是江大桥。\n",
      "江大桥。\n",
      "江大桥是武汉的一座大桥，但武汉市长并不是江大桥。\n",
      "的一座大桥，但武汉市长并不是江大桥。\n",
      "长并不是江大桥。\n",
      "长江大桥是武汉的一座大桥，但武汉市长并不是江大桥。\n",
      "，但武汉市长并不是江大桥。\n"
     ]
    }
   ],
   "source": [
    "for i in range(1, sa.size()+1):\n",
    "    print(sa.get_suf(i))"
   ]
  },
  {
   "cell_type": "code",
   "execution_count": 7,
   "metadata": {},
   "outputs": [],
   "source": [
    "sa = SuffixArray(file_paths='./wiki_0000.utf8')"
   ]
  },
  {
   "cell_type": "code",
   "execution_count": 8,
   "metadata": {},
   "outputs": [
    {
     "data": {
      "text/plain": [
       "1413"
      ]
     },
     "execution_count": 8,
     "metadata": {},
     "output_type": "execute_result"
    }
   ],
   "source": [
    "sa.get_count(\"计算机\") # expected 1413"
   ]
  },
  {
   "cell_type": "code",
   "execution_count": 9,
   "metadata": {},
   "outputs": [
    {
     "data": {
      "text/plain": [
       "3509"
      ]
     },
     "execution_count": 9,
     "metadata": {},
     "output_type": "execute_result"
    }
   ],
   "source": [
    "sa.get_count(\"上海\") # expected 3509"
   ]
  },
  {
   "cell_type": "code",
   "execution_count": 10,
   "metadata": {},
   "outputs": [
    {
     "data": {
      "text/plain": [
       "21"
      ]
     },
     "execution_count": 10,
     "metadata": {},
     "output_type": "execute_result"
    }
   ],
   "source": [
    "sa.get_count(\"诺贝尔经济学\") # expected 21"
   ]
  },
  {
   "cell_type": "code",
   "execution_count": 13,
   "metadata": {},
   "outputs": [
    {
     "data": {
      "text/plain": [
       "[{'token': '市', 'prob': 0.10934393638170974},\n",
       " {'token': '，', 'prob': 0.04771371769383698},\n",
       " {'token': '的', 'prob': 0.042743538767395624},\n",
       " {'token': '、', 'prob': 0.041749502982107355},\n",
       " {'token': '地', 'prob': 0.03479125248508946},\n",
       " {'token': '大', 'prob': 0.02485089463220676},\n",
       " {'token': '国', 'prob': 0.02186878727634195},\n",
       " {'token': '）', 'prob': 0.02186878727634195},\n",
       " {'token': '三', 'prob': 0.020874751491053677},\n",
       " {'token': '理', 'prob': 0.020874751491053677}]"
      ]
     },
     "execution_count": 13,
     "metadata": {},
     "output_type": "execute_result"
    }
   ],
   "source": [
    "sorted(sa.get_prob(\"武汉\"), key=lambda x: x['prob'], reverse=True)[:10]"
   ]
  },
  {
   "cell_type": "code",
   "execution_count": 12,
   "metadata": {},
   "outputs": [
    {
     "data": {
      "text/plain": [
       "[{'token': '学', 'prob': 0.9545454545454546},\n",
       " {'token': '科', 'prob': 0.045454545454545456}]"
      ]
     },
     "execution_count": 12,
     "metadata": {},
     "output_type": "execute_result"
    }
   ],
   "source": [
    "sa.get_prob(\"诺贝尔经济\")"
   ]
  }
 ],
 "metadata": {
  "kernelspec": {
   "display_name": "pytorch",
   "language": "python",
   "name": "python3"
  },
  "language_info": {
   "codemirror_mode": {
    "name": "ipython",
    "version": 3
   },
   "file_extension": ".py",
   "mimetype": "text/x-python",
   "name": "python",
   "nbconvert_exporter": "python",
   "pygments_lexer": "ipython3",
   "version": "3.9.19"
  }
 },
 "nbformat": 4,
 "nbformat_minor": 2
}
