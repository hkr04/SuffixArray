{
 "cells": [
  {
   "cell_type": "code",
   "execution_count": 1,
   "metadata": {},
   "outputs": [],
   "source": [
    "from SuffixArray import SuffixArray"
   ]
  },
  {
   "cell_type": "code",
   "execution_count": 2,
   "metadata": {},
   "outputs": [],
   "source": [
    "sa = SuffixArray(text=\"武汉市长江大桥是武汉的一座大桥，但武汉市长并不是江大桥。\")"
   ]
  },
  {
   "cell_type": "code",
   "execution_count": 3,
   "metadata": {},
   "outputs": [
    {
     "name": "stdout",
     "output_type": "stream",
     "text": [
      "[{'token': '市', 'prob': 0.6666666666666666}, {'token': '的', 'prob': 0.3333333333333333}]\n",
      "[{'token': '[UNK]', 'prob': 0.0}]\n",
      "0.6365141682948128\n",
      "0.0\n"
     ]
    }
   ],
   "source": [
    "print(sa.get_prob(\"武汉\"))\n",
    "print(sa.get_branch_entropy(\"武汉\"))\n",
    "print(sa.get_prob(\"。\"))\n",
    "print(sa.get_branch_entropy(\"。\"))"
   ]
  },
  {
   "cell_type": "code",
   "execution_count": 4,
   "metadata": {},
   "outputs": [
    {
     "data": {
      "text/plain": [
       "2"
      ]
     },
     "execution_count": 4,
     "metadata": {},
     "output_type": "execute_result"
    }
   ],
   "source": [
    "sa.get_count(\"武汉市长\")"
   ]
  },
  {
   "cell_type": "code",
   "execution_count": 5,
   "metadata": {},
   "outputs": [
    {
     "name": "stdout",
     "output_type": "stream",
     "text": [
      "。\n",
      "一座大桥，但武汉市长并不是江大桥。\n",
      "不是江大桥。\n",
      "但武汉市长并不是江大桥。\n",
      "大桥。\n",
      "大桥是武汉的一座大桥，但武汉市长并不是江大桥。\n",
      "大桥，但武汉市长并不是江大桥。\n",
      "市长并不是江大桥。\n",
      "市长江大桥是武汉的一座大桥，但武汉市长并不是江大桥。\n",
      "并不是江大桥。\n",
      "座大桥，但武汉市长并不是江大桥。\n",
      "是武汉的一座大桥，但武汉市长并不是江大桥。\n",
      "是江大桥。\n",
      "桥。\n",
      "桥是武汉的一座大桥，但武汉市长并不是江大桥。\n",
      "桥，但武汉市长并不是江大桥。\n",
      "武汉市长并不是江大桥。\n",
      "武汉市长江大桥是武汉的一座大桥，但武汉市长并不是江大桥。\n",
      "武汉的一座大桥，但武汉市长并不是江大桥。\n",
      "汉市长并不是江大桥。\n",
      "汉市长江大桥是武汉的一座大桥，但武汉市长并不是江大桥。\n",
      "汉的一座大桥，但武汉市长并不是江大桥。\n",
      "江大桥。\n",
      "江大桥是武汉的一座大桥，但武汉市长并不是江大桥。\n",
      "的一座大桥，但武汉市长并不是江大桥。\n",
      "长并不是江大桥。\n",
      "长江大桥是武汉的一座大桥，但武汉市长并不是江大桥。\n",
      "，但武汉市长并不是江大桥。\n"
     ]
    }
   ],
   "source": [
    "for i in range(1, sa.size()+1):\n",
    "    print(sa.get_suf(i))"
   ]
  }
 ],
 "metadata": {
  "kernelspec": {
   "display_name": "pytorch",
   "language": "python",
   "name": "python3"
  },
  "language_info": {
   "codemirror_mode": {
    "name": "ipython",
    "version": 3
   },
   "file_extension": ".py",
   "mimetype": "text/x-python",
   "name": "python",
   "nbconvert_exporter": "python",
   "pygments_lexer": "ipython3",
   "version": "3.9.19"
  }
 },
 "nbformat": 4,
 "nbformat_minor": 2
}
